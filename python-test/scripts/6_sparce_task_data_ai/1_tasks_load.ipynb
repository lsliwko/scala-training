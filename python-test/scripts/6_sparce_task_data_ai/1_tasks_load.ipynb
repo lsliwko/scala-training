{
 "cells": [
  {
   "cell_type": "markdown",
   "metadata": {
    "colab_type": "text",
    "id": "CazISR8X_HUG"
   },
   "source": [
    "# Multiple Linear Regression"
   ]
  },
  {
   "cell_type": "markdown",
   "metadata": {
    "colab_type": "text",
    "id": "pOyqYHTk_Q57"
   },
   "source": [
    "## Importing the libraries"
   ]
  },
  {
   "cell_type": "code",
   "execution_count": 1,
   "metadata": {
    "colab": {},
    "colab_type": "code",
    "id": "T_YHJjnD_Tja"
   },
   "outputs": [],
   "source": [
    "import numpy as np\n",
    "import matplotlib.pyplot as plt\n",
    "import pandas as pd\n",
    "import pyarrow.csv"
   ]
  },
  {
   "cell_type": "markdown",
   "metadata": {
    "colab_type": "text",
    "id": "vgC61-ah_WIz"
   },
   "source": [
    "## Importing the dataset"
   ]
  },
  {
   "cell_type": "code",
   "execution_count": 2,
   "metadata": {
    "colab": {},
    "colab_type": "code",
    "id": "UrxyEKGn_ez7"
   },
   "outputs": [
    {
     "name": "stdout",
     "output_type": "stream",
     "text": [
      "Features count = 69\n",
      "Tasks count = 145184\n",
      "[[0.004376 0.0003975 nan ... nan nan nan]\n",
      " [0.004376 0.0003975 nan ... nan nan nan]\n",
      " [0.004376 0.0003975 nan ... nan nan nan]\n",
      " ...\n",
      " [0.0006874 0.0003109 nan ... nan nan nan]\n",
      " [0.0006874 0.0003109 nan ... nan nan nan]\n",
      " [0.0006874 0.0003109 nan ... nan nan nan]]\n"
     ]
    }
   ],
   "source": [
    "#dataset = pd.read_csv('datapoint-task-test-mini.csv', low_memory=False)\n",
    "dataset = pd.read_csv('datapoint-task-full.csv', low_memory=False)\n",
    "\n",
    "# sanity check\n",
    "if list(dataset.columns[0:4]) != ['AVAILABLE NODES COUNT', 'TASK ID', 'CPU REQUIRED', 'MEMORY REQUIRED']:\n",
    "    raise Exception('illegal columns')\n",
    "\n",
    "# remove task duplicates\n",
    "dataset = dataset.drop_duplicates(subset='TASK ID', keep='last')\n",
    "\n",
    "X = dataset.iloc[:, 2:].values # from 3rd column\n",
    "y = dataset.iloc[:, 0].values # first column\n",
    "\n",
    "features_count = len(X[0])\n",
    "print(f\"Features count = {features_count}\")\n",
    "\n",
    "task_ids = dataset.iloc[:, 1].values # first column\n",
    "print(f\"Tasks count = {len(task_ids)}\")\n",
    "\n",
    "# fill in missing values with zeros\n",
    "#from sklearn.impute import SimpleImputer\n",
    "#imputer = SimpleImputer(missing_values=np.nan, strategy='constant', fill_value=0)\n",
    "#imputer.fit(X)\n",
    "#X = imputer.transform(X)\n",
    "\n",
    "print(X)\n"
   ]
  },
  {
   "cell_type": "markdown",
   "metadata": {
    "colab_type": "text",
    "id": "VadrvE7s_lS9"
   },
   "source": [
    "## Encoding categorical data"
   ]
  },
  {
   "cell_type": "code",
   "execution_count": 3,
   "metadata": {
    "colab": {},
    "colab_type": "code",
    "id": "wV3fD1mbAvsh"
   },
   "outputs": [
    {
     "name": "stdout",
     "output_type": "stream",
     "text": [
      "Encoded columns count: 100\n",
      "['encoder__x2_nan' 'encoder__x3_nan' 'encoder__x4_nan' 'encoder__x5_nan'\n",
      " 'encoder__x6_nan' 'encoder__x7_nan' 'encoder__x8_${AG} <> 0'\n",
      " 'encoder__x8_nan' 'encoder__x9_${AH} == 2' 'encoder__x9_${AH} >= 1'\n",
      " 'encoder__x9_nan' 'encoder__x10_nan' 'encoder__x11_nan'\n",
      " \"encoder__x12_${AK} <> 'hp'\"\n",
      " \"encoder__x12_${AK} <> 'wh', 'wi', 'wj', 'wk'\" 'encoder__x12_nan'\n",
      " 'encoder__x13_nan' 'encoder__x14_${AM} >= 2' 'encoder__x14_${AM} >= 5'\n",
      " 'encoder__x14_nan' 'encoder__x15_${AN} == 2' 'encoder__x15_nan'\n",
      " 'encoder__x16_nan' 'encoder__x17_nan' 'encoder__x18_nan'\n",
      " 'encoder__x19_nan' 'encoder__x20_${AS} == ' 'encoder__x20_nan'\n",
      " 'encoder__x21_nan' 'encoder__x22_nan' 'encoder__x23_nan'\n",
      " 'encoder__x24_nan' 'encoder__x25_nan' 'encoder__x26_nan'\n",
      " 'encoder__x27_nan' 'encoder__x28_nan' 'encoder__x29_nan'\n",
      " 'encoder__x30_nan' 'encoder__x31_nan' 'encoder__x32_nan'\n",
      " 'encoder__x33_nan' 'encoder__x34_nan' 'encoder__x35_nan'\n",
      " 'encoder__x36_nan' 'encoder__x37_nan' 'encoder__x38_nan'\n",
      " 'encoder__x39_nan' 'encoder__x40_nan' 'encoder__x41_nan'\n",
      " 'encoder__x42_nan' 'encoder__x43_nan' 'encoder__x44_${B} <> 0'\n",
      " 'encoder__x44_${B} <> 0, 1' 'encoder__x44_nan' 'encoder__x45_nan'\n",
      " 'encoder__x46_${D} == ' 'encoder__x46_nan' 'encoder__x47_${E} <> 0'\n",
      " 'encoder__x47_${E} >= 0' 'encoder__x47_${E} >= 2' 'encoder__x47_nan'\n",
      " 'encoder__x48_nan' 'encoder__x49_${G} <> 0' 'encoder__x49_${G} == 2'\n",
      " 'encoder__x49_nan' 'encoder__x50_nan' 'encoder__x51_${I} == 4'\n",
      " 'encoder__x51_${I} >= 1' 'encoder__x51_nan' 'encoder__x52_nan'\n",
      " 'encoder__x53_nan' 'encoder__x54_nan' 'encoder__x55_nan'\n",
      " \"encoder__x56_${N} <> 'hs', 'ht', 'hu'\" 'encoder__x56_nan'\n",
      " 'encoder__x57_nan' 'encoder__x58_nan' 'encoder__x59_nan'\n",
      " 'encoder__x60_${R} >= 0' 'encoder__x60_nan' 'encoder__x61_nan'\n",
      " 'encoder__x62_nan' 'encoder__x63_nan' 'encoder__x64_nan'\n",
      " 'encoder__x65_${W} < 4' 'encoder__x65_${W} < 7' 'encoder__x65_${W} >= 2'\n",
      " 'encoder__x65_14 > ${W} >= 4' 'encoder__x65_16 > ${W} >= 13'\n",
      " 'encoder__x65_3 > ${W} >= 0' 'encoder__x65_5 > ${W} >= 2'\n",
      " 'encoder__x65_nan' 'encoder__x66_${X} == 2' 'encoder__x66_${X} >= 0'\n",
      " 'encoder__x66_${X} >= 1' 'encoder__x66_nan' 'encoder__x67_nan'\n",
      " 'encoder__x68_nan' 'remainder__x0' 'remainder__x1']\n",
      "[[1.0 1.0 1.0 ... 1.0 0.004376 0.0003975]\n",
      " [1.0 1.0 1.0 ... 1.0 0.004376 0.0003975]\n",
      " [1.0 1.0 1.0 ... 1.0 0.004376 0.0003975]\n",
      " ...\n",
      " [1.0 1.0 1.0 ... 1.0 0.0006874 0.0003109]\n",
      " [1.0 1.0 1.0 ... 1.0 0.0006874 0.0003109]\n",
      " [1.0 1.0 1.0 ... 1.0 0.0006874 0.0003109]]\n"
     ]
    }
   ],
   "source": [
    "from sklearn.compose import ColumnTransformer\n",
    "from sklearn.preprocessing import OneHotEncoder\n",
    "\n",
    "columns_list = [i for i in range(2, features_count)]\n",
    "ct = ColumnTransformer(\n",
    "    transformers=[('encoder', OneHotEncoder(), columns_list)], \n",
    "    remainder='passthrough', \n",
    "    sparse_threshold=0, \n",
    "    n_jobs=-1\n",
    ")\n",
    "X_cat_encoded = np.array(ct.fit_transform(X))\n",
    "\n",
    "print(f\"Encoded columns count: {len(X_cat_encoded[0])}\")\n",
    "print(ct.get_feature_names_out())\n",
    "print(X_cat_encoded)"
   ]
  },
  {
   "cell_type": "markdown",
   "metadata": {
    "colab_type": "text",
    "id": "WemVnqgeA70k"
   },
   "source": [
    "## Splitting the dataset into the Training set and Test set"
   ]
  },
  {
   "cell_type": "code",
   "execution_count": 4,
   "metadata": {
    "colab": {},
    "colab_type": "code",
    "id": "Kb_v_ae-A-20"
   },
   "outputs": [],
   "source": [
    "from sklearn.model_selection import train_test_split\n",
    "X_test, X_train, y_test, y_train = train_test_split(X_cat_encoded, y, test_size = 0.9, random_state = 0)"
   ]
  },
  {
   "cell_type": "code",
   "execution_count": 5,
   "metadata": {},
   "outputs": [
    {
     "name": "stdout",
     "output_type": "stream",
     "text": [
      "[12475 12475 12360 ... 12475 12475 12475]\n"
     ]
    }
   ],
   "source": [
    "print(y_train)"
   ]
  },
  {
   "cell_type": "markdown",
   "metadata": {
    "colab_type": "text",
    "id": "k-McZVsQBINc"
   },
   "source": [
    "## Training the Multiple Linear Regression model on the Training set"
   ]
  },
  {
   "cell_type": "code",
   "execution_count": 6,
   "metadata": {
    "colab": {
     "base_uri": "https://localhost:8080/",
     "height": 34
    },
    "colab_type": "code",
    "executionInfo": {
     "elapsed": 757,
     "status": "ok",
     "timestamp": 1586353664008,
     "user": {
      "displayName": "Hadelin de Ponteves",
      "photoUrl": "https://lh3.googleusercontent.com/a-/AOh14GhEuXdT7eQweUmRPW8_laJuPggSK6hfvpl5a6WBaA=s64",
      "userId": "15047218817161520419"
     },
     "user_tz": -240
    },
    "id": "ywPjx0L1BMiD",
    "outputId": "099836bc-4d85-4b4f-a488-093faf02e8cb"
   },
   "outputs": [
    {
     "data": {
      "text/html": [
       "<style>#sk-container-id-1 {color: black;}#sk-container-id-1 pre{padding: 0;}#sk-container-id-1 div.sk-toggleable {background-color: white;}#sk-container-id-1 label.sk-toggleable__label {cursor: pointer;display: block;width: 100%;margin-bottom: 0;padding: 0.3em;box-sizing: border-box;text-align: center;}#sk-container-id-1 label.sk-toggleable__label-arrow:before {content: \"▸\";float: left;margin-right: 0.25em;color: #696969;}#sk-container-id-1 label.sk-toggleable__label-arrow:hover:before {color: black;}#sk-container-id-1 div.sk-estimator:hover label.sk-toggleable__label-arrow:before {color: black;}#sk-container-id-1 div.sk-toggleable__content {max-height: 0;max-width: 0;overflow: hidden;text-align: left;background-color: #f0f8ff;}#sk-container-id-1 div.sk-toggleable__content pre {margin: 0.2em;color: black;border-radius: 0.25em;background-color: #f0f8ff;}#sk-container-id-1 input.sk-toggleable__control:checked~div.sk-toggleable__content {max-height: 200px;max-width: 100%;overflow: auto;}#sk-container-id-1 input.sk-toggleable__control:checked~label.sk-toggleable__label-arrow:before {content: \"▾\";}#sk-container-id-1 div.sk-estimator input.sk-toggleable__control:checked~label.sk-toggleable__label {background-color: #d4ebff;}#sk-container-id-1 div.sk-label input.sk-toggleable__control:checked~label.sk-toggleable__label {background-color: #d4ebff;}#sk-container-id-1 input.sk-hidden--visually {border: 0;clip: rect(1px 1px 1px 1px);clip: rect(1px, 1px, 1px, 1px);height: 1px;margin: -1px;overflow: hidden;padding: 0;position: absolute;width: 1px;}#sk-container-id-1 div.sk-estimator {font-family: monospace;background-color: #f0f8ff;border: 1px dotted black;border-radius: 0.25em;box-sizing: border-box;margin-bottom: 0.5em;}#sk-container-id-1 div.sk-estimator:hover {background-color: #d4ebff;}#sk-container-id-1 div.sk-parallel-item::after {content: \"\";width: 100%;border-bottom: 1px solid gray;flex-grow: 1;}#sk-container-id-1 div.sk-label:hover label.sk-toggleable__label {background-color: #d4ebff;}#sk-container-id-1 div.sk-serial::before {content: \"\";position: absolute;border-left: 1px solid gray;box-sizing: border-box;top: 0;bottom: 0;left: 50%;z-index: 0;}#sk-container-id-1 div.sk-serial {display: flex;flex-direction: column;align-items: center;background-color: white;padding-right: 0.2em;padding-left: 0.2em;position: relative;}#sk-container-id-1 div.sk-item {position: relative;z-index: 1;}#sk-container-id-1 div.sk-parallel {display: flex;align-items: stretch;justify-content: center;background-color: white;position: relative;}#sk-container-id-1 div.sk-item::before, #sk-container-id-1 div.sk-parallel-item::before {content: \"\";position: absolute;border-left: 1px solid gray;box-sizing: border-box;top: 0;bottom: 0;left: 50%;z-index: -1;}#sk-container-id-1 div.sk-parallel-item {display: flex;flex-direction: column;z-index: 1;position: relative;background-color: white;}#sk-container-id-1 div.sk-parallel-item:first-child::after {align-self: flex-end;width: 50%;}#sk-container-id-1 div.sk-parallel-item:last-child::after {align-self: flex-start;width: 50%;}#sk-container-id-1 div.sk-parallel-item:only-child::after {width: 0;}#sk-container-id-1 div.sk-dashed-wrapped {border: 1px dashed gray;margin: 0 0.4em 0.5em 0.4em;box-sizing: border-box;padding-bottom: 0.4em;background-color: white;}#sk-container-id-1 div.sk-label label {font-family: monospace;font-weight: bold;display: inline-block;line-height: 1.2em;}#sk-container-id-1 div.sk-label-container {text-align: center;}#sk-container-id-1 div.sk-container {/* jupyter's `normalize.less` sets `[hidden] { display: none; }` but bootstrap.min.css set `[hidden] { display: none !important; }` so we also need the `!important` here to be able to override the default hidden behavior on the sphinx rendered scikit-learn.org. See: https://github.com/scikit-learn/scikit-learn/issues/21755 */display: inline-block !important;position: relative;}#sk-container-id-1 div.sk-text-repr-fallback {display: none;}</style><div id=\"sk-container-id-1\" class=\"sk-top-container\"><div class=\"sk-text-repr-fallback\"><pre>LinearRegression()</pre><b>In a Jupyter environment, please rerun this cell to show the HTML representation or trust the notebook. <br />On GitHub, the HTML representation is unable to render, please try loading this page with nbviewer.org.</b></div><div class=\"sk-container\" hidden><div class=\"sk-item\"><div class=\"sk-estimator sk-toggleable\"><input class=\"sk-toggleable__control sk-hidden--visually\" id=\"sk-estimator-id-1\" type=\"checkbox\" checked><label for=\"sk-estimator-id-1\" class=\"sk-toggleable__label sk-toggleable__label-arrow\">LinearRegression</label><div class=\"sk-toggleable__content\"><pre>LinearRegression()</pre></div></div></div></div></div>"
      ],
      "text/plain": [
       "LinearRegression()"
      ]
     },
     "execution_count": 6,
     "metadata": {},
     "output_type": "execute_result"
    }
   ],
   "source": [
    "from sklearn.linear_model import LinearRegression\n",
    "regressor = LinearRegression()\n",
    "regressor.fit(X_train, y_train)"
   ]
  },
  {
   "cell_type": "markdown",
   "metadata": {
    "colab_type": "text",
    "id": "xNkXL1YQBiBT"
   },
   "source": [
    "## Predicting the Test set results"
   ]
  },
  {
   "cell_type": "code",
   "execution_count": 9,
   "metadata": {
    "colab": {
     "base_uri": "https://localhost:8080/",
     "height": 185
    },
    "colab_type": "code",
    "executionInfo": {
     "elapsed": 951,
     "status": "ok",
     "timestamp": 1586353666678,
     "user": {
      "displayName": "Hadelin de Ponteves",
      "photoUrl": "https://lh3.googleusercontent.com/a-/AOh14GhEuXdT7eQweUmRPW8_laJuPggSK6hfvpl5a6WBaA=s64",
      "userId": "15047218817161520419"
     },
     "user_tz": -240
    },
    "id": "TQKmwvtdBkyb",
    "outputId": "493436bf-a4ae-4374-ca16-0b0c25d19457"
   },
   "outputs": [
    {
     "name": "stdout",
     "output_type": "stream",
     "text": [
      "[[12474.98 12475.  ]\n",
      " [12475.   12475.  ]\n",
      " [12474.99 12475.  ]\n",
      " ...\n",
      " [12474.99 12475.  ]\n",
      " [12475.   12475.  ]\n",
      " [12475.   12475.  ]]\n"
     ]
    }
   ],
   "source": [
    "y_test_pred = regressor.predict(X_test)\n",
    "np.set_printoptions(precision=2)\n",
    "print(np.concatenate((y_test_pred.reshape(len(y_test_pred),1), y_test.reshape(len(y_test),1)),1))"
   ]
  },
  {
   "cell_type": "markdown",
   "metadata": {},
   "source": [
    "## Save category encoded csv"
   ]
  },
  {
   "cell_type": "code",
   "execution_count": 19,
   "metadata": {},
   "outputs": [],
   "source": [
    "y_pred = regressor.predict(X_cat_encoded)\n",
    "y_pred = np.around(y_pred, 6)\n",
    "\n",
    "dataset_cat_encoded = pd.DataFrame(X_cat_encoded, columns=ct.get_feature_names_out())\n",
    "\n",
    "dataset_cat_encoded.insert(0, \"TASK ID\", task_ids)\n",
    "dataset_cat_encoded.insert(1, \"AVAILABLE NODES COUNT\", y)\n",
    "dataset_cat_encoded.insert(2, \"PREDICTED AVAILABLE NODES COUNT\", y_pred)\n",
    "dataset_cat_encoded.to_csv('datapoint-task-category-encoded.csv', index=False)"
   ]
  },
  {
   "cell_type": "code",
   "execution_count": null,
   "metadata": {},
   "outputs": [],
   "source": []
  },
  {
   "cell_type": "code",
   "execution_count": null,
   "metadata": {},
   "outputs": [],
   "source": []
  }
 ],
 "metadata": {
  "colab": {
   "authorship_tag": "ABX9TyPhYhte6t7H4wEK4xPpDWT7",
   "name": "Multiple Linear Regression",
   "provenance": [],
   "toc_visible": true
  },
  "kernelspec": {
   "display_name": "Python 3 (ipykernel)",
   "language": "python",
   "name": "python3"
  },
  "language_info": {
   "codemirror_mode": {
    "name": "ipython",
    "version": 3
   },
   "file_extension": ".py",
   "mimetype": "text/x-python",
   "name": "python",
   "nbconvert_exporter": "python",
   "pygments_lexer": "ipython3",
   "version": "3.11.7"
  }
 },
 "nbformat": 4,
 "nbformat_minor": 4
}
